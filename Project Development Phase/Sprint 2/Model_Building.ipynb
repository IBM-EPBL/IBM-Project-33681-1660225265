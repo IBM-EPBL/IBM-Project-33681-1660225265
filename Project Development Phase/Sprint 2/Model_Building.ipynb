{
  "nbformat": 4,
  "nbformat_minor": 0,
  "metadata": {
    "colab": {
      "provenance": []
    },
    "kernelspec": {
      "name": "python3",
      "display_name": "Python 3"
    },
    "language_info": {
      "name": "python"
    }
  },
  "cells": [
    {
      "cell_type": "code",
      "execution_count": null,
      "metadata": {
        "id": "klyFbsB4hfsm"
      },
      "outputs": [],
      "source": [
        "import numpy as np\n",
        "import tensorflow as tf\n",
        "from tensorflow.keras.models import Sequential \n",
        "from tensorflow.keras import layers\n",
        "from tensorflow.keras.layers import Dense,Flatten\n",
        "from tensorflow.keras.layers import Conv2D,MaxPooling2D,Dropout"
      ]
    },
    {
      "cell_type": "code",
      "source": [
        "train_datagen = ImageDataGenerator(rescale = 1./255,shear_range=0.2,zoom_range=0.2,horizontal_flip=True)\n",
        "test_datagen = ImageDataGenerator(rescale = 1./255)"
      ],
      "metadata": {
        "id": "QdzijUfchtmh"
      },
      "execution_count": null,
      "outputs": []
    },
    {
      "cell_type": "code",
      "source": [
        "#Applying Image DataGenerator Functionality To Trainset And Testset\n",
        "x_train = train_datagen.flow_from_directory(\n",
        "    r'/content/drive/MyDrive/DataSet-IBM/TRAIN_SET',\n",
        "    target_size=(64, 64),batch_size=5,color_mode='rgb',class_mode='sparse')\n",
        "#Applying Image DataGenerator Functionality To Testset\n",
        "x_test = test_datagen.flow_from_directory(\n",
        "    r'/content/drive/MyDrive/DataSet-IBM/TEST_SET',\n",
        "    target_size=(64, 64),batch_size=5,color_mode='rgb',class_mode='sparse')"
      ],
      "metadata": {
        "colab": {
          "base_uri": "https://localhost:8080/"
        },
        "id": "7MPUjjFYl-Mo",
        "outputId": "e790c3ee-e63c-47df-d6ba-3ac1b999e239"
      },
      "execution_count": null,
      "outputs": [
        {
          "output_type": "stream",
          "name": "stdout",
          "text": [
            "Found 4128 images belonging to 5 classes.\n",
            "Found 929 images belonging to 5 classes.\n"
          ]
        }
      ]
    },
    {
      "cell_type": "code",
      "source": [
        "#checking the number of classes\n",
        "print(x_train.class_indices)"
      ],
      "metadata": {
        "colab": {
          "base_uri": "https://localhost:8080/"
        },
        "id": "p8jMbatezQVl",
        "outputId": "ab9942da-8f02-4694-e585-1c119c31ac45"
      },
      "execution_count": null,
      "outputs": [
        {
          "output_type": "stream",
          "name": "stdout",
          "text": [
            "{'APPLES': 0, 'BANANA': 1, 'ORANGE': 2, 'PINEAPPLE': 3, 'WATERMELON': 4}\n"
          ]
        }
      ]
    },
    {
      "cell_type": "code",
      "source": [
        "#checking the number of classes\n",
        "print(x_test.class_indices)"
      ],
      "metadata": {
        "colab": {
          "base_uri": "https://localhost:8080/"
        },
        "id": "ni5a2f86zYVN",
        "outputId": "480f0bb1-721b-4ad3-c331-60bc78479e5d"
      },
      "execution_count": null,
      "outputs": [
        {
          "output_type": "stream",
          "name": "stdout",
          "text": [
            "{'APPLES': 0, 'BANANA': 1, 'ORANGE': 2, 'PINEAPPLE': 3, 'WATERMELON': 4}\n"
          ]
        }
      ]
    },
    {
      "cell_type": "code",
      "source": [
        "from collections import Counter as c\n",
        "c(x_train .labels)"
      ],
      "metadata": {
        "colab": {
          "base_uri": "https://localhost:8080/"
        },
        "id": "ypLY8ewzzcYn",
        "outputId": "b68605de-1319-418b-a073-da7e3e773d7a"
      },
      "execution_count": null,
      "outputs": [
        {
          "output_type": "execute_result",
          "data": {
            "text/plain": [
              "Counter({0: 995, 1: 1364, 2: 1019, 3: 275, 4: 475})"
            ]
          },
          "metadata": {},
          "execution_count": 10
        }
      ]
    },
    {
      "cell_type": "code",
      "source": [
        "model = Sequential()"
      ],
      "metadata": {
        "id": "U9a5-_UI2Wte"
      },
      "execution_count": null,
      "outputs": []
    },
    {
      "cell_type": "code",
      "source": [
        "classifier = Sequential()\n",
        "\n",
        "# First convolution layer and pooling\n",
        "classifier.add(Conv2D(32, (3, 3), input_shape=(64, 64, 3), activation='relu'))\n",
        "classifier.add(MaxPooling2D(pool_size=(2, 2)))\n",
        "\n",
        "# Second convolution layer and pooling\n",
        "classifier.add(Conv2D(32, (3, 3), activation='relu'))\n",
        "\n",
        "# input_shape is going to be the pooled feature maps from the previous convolution layer\n",
        "classifier.add(MaxPooling2D(pool_size=(2, 2)))\n",
        "\n",
        "# Flattening the layers\n",
        "classifier.add(Flatten())"
      ],
      "metadata": {
        "id": "Paz_Hw3Q2a8i"
      },
      "execution_count": null,
      "outputs": []
    },
    {
      "cell_type": "code",
      "source": [
        "classifier.add(Dense(units=128, activation='relu'))\n",
        "classifier.add(Dense(units=5, activation='softmax'))"
      ],
      "metadata": {
        "id": "bH3E3JPy2eaJ"
      },
      "execution_count": null,
      "outputs": []
    },
    {
      "cell_type": "code",
      "source": [
        "classifier.summary()"
      ],
      "metadata": {
        "colab": {
          "base_uri": "https://localhost:8080/"
        },
        "id": "3363VDDK2hVc",
        "outputId": "af7d35ad-f723-4650-b3e6-152d866df050"
      },
      "execution_count": null,
      "outputs": [
        {
          "output_type": "stream",
          "name": "stdout",
          "text": [
            "Model: \"sequential_1\"\n",
            "_________________________________________________________________\n",
            " Layer (type)                Output Shape              Param #   \n",
            "=================================================================\n",
            " conv2d (Conv2D)             (None, 62, 62, 32)        896       \n",
            "                                                                 \n",
            " max_pooling2d (MaxPooling2D  (None, 31, 31, 32)       0         \n",
            " )                                                               \n",
            "                                                                 \n",
            " conv2d_1 (Conv2D)           (None, 29, 29, 32)        9248      \n",
            "                                                                 \n",
            " max_pooling2d_1 (MaxPooling  (None, 14, 14, 32)       0         \n",
            " 2D)                                                             \n",
            "                                                                 \n",
            " flatten (Flatten)           (None, 6272)              0         \n",
            "                                                                 \n",
            " dense (Dense)               (None, 128)               802944    \n",
            "                                                                 \n",
            " dense_1 (Dense)             (None, 5)                 645       \n",
            "                                                                 \n",
            "=================================================================\n",
            "Total params: 813,733\n",
            "Trainable params: 813,733\n",
            "Non-trainable params: 0\n",
            "_________________________________________________________________\n"
          ]
        }
      ]
    },
    {
      "cell_type": "code",
      "source": [
        "# Compiling the CNN\n",
        "# categorical_crossentropy for more than 2\n",
        "classifier.compile(optimizer='adam', loss='sparse_categorical_crossentropy', metrics=['accuracy'])"
      ],
      "metadata": {
        "id": "QznvP79Q2k8D"
      },
      "execution_count": null,
      "outputs": []
    },
    {
      "cell_type": "code",
      "source": [
        "classifier.fit_generator(generator=x_train,steps_per_epoch = len(x_train),epochs=20, validation_data=x_test,validation_steps = len(x_test))"
      ],
      "metadata": {
        "colab": {
          "base_uri": "https://localhost:8080/"
        },
        "id": "A_Mr2Jsa2mbj",
        "outputId": "98b6ba7e-2d49-4d1e-b5e3-d0ca462452de"
      },
      "execution_count": null,
      "outputs": [
        {
          "output_type": "stream",
          "name": "stdout",
          "text": [
            "Epoch 1/20\n",
            "  1/826 [..............................] - ETA: 1:02 - loss: 0.3900 - accuracy: 1.0000"
          ]
        },
        {
          "output_type": "stream",
          "name": "stderr",
          "text": [
            "/usr/local/lib/python3.7/dist-packages/ipykernel_launcher.py:1: UserWarning: `Model.fit_generator` is deprecated and will be removed in a future version. Please use `Model.fit`, which supports generators.\n",
            "  \"\"\"Entry point for launching an IPython kernel.\n"
          ]
        },
        {
          "output_type": "stream",
          "name": "stdout",
          "text": [
            "826/826 [==============================] - 889s 1s/step - loss: 0.4619 - accuracy: 0.8275 - val_loss: 0.4376 - val_accuracy: 0.8310\n",
            "Epoch 2/20\n",
            "826/826 [==============================] - 43s 52ms/step - loss: 0.3975 - accuracy: 0.8525 - val_loss: 0.4042 - val_accuracy: 0.8482\n",
            "Epoch 3/20\n",
            "826/826 [==============================] - 43s 52ms/step - loss: 0.3558 - accuracy: 0.8646 - val_loss: 0.4894 - val_accuracy: 0.8288\n",
            "Epoch 4/20\n",
            "826/826 [==============================] - 43s 52ms/step - loss: 0.3555 - accuracy: 0.8692 - val_loss: 0.4736 - val_accuracy: 0.8256\n",
            "Epoch 5/20\n",
            "826/826 [==============================] - 41s 50ms/step - loss: 0.3359 - accuracy: 0.8716 - val_loss: 0.3769 - val_accuracy: 0.8654\n",
            "Epoch 6/20\n",
            "826/826 [==============================] - 43s 52ms/step - loss: 0.3033 - accuracy: 0.8854 - val_loss: 0.3829 - val_accuracy: 0.8611\n",
            "Epoch 7/20\n",
            "826/826 [==============================] - 45s 54ms/step - loss: 0.2917 - accuracy: 0.8905 - val_loss: 0.4031 - val_accuracy: 0.8644\n",
            "Epoch 8/20\n",
            "826/826 [==============================] - 42s 51ms/step - loss: 0.2669 - accuracy: 0.8983 - val_loss: 0.3631 - val_accuracy: 0.8622\n",
            "Epoch 9/20\n",
            "826/826 [==============================] - 43s 52ms/step - loss: 0.2617 - accuracy: 0.8987 - val_loss: 0.5871 - val_accuracy: 0.8149\n",
            "Epoch 10/20\n",
            "826/826 [==============================] - 43s 52ms/step - loss: 0.2563 - accuracy: 0.9026 - val_loss: 0.4100 - val_accuracy: 0.8741\n",
            "Epoch 11/20\n",
            "826/826 [==============================] - 43s 52ms/step - loss: 0.2301 - accuracy: 0.9152 - val_loss: 0.4018 - val_accuracy: 0.8428\n",
            "Epoch 12/20\n",
            "826/826 [==============================] - 42s 51ms/step - loss: 0.2185 - accuracy: 0.9179 - val_loss: 0.4227 - val_accuracy: 0.8784\n",
            "Epoch 13/20\n",
            "826/826 [==============================] - 41s 50ms/step - loss: 0.1986 - accuracy: 0.9273 - val_loss: 0.4698 - val_accuracy: 0.8353\n",
            "Epoch 14/20\n",
            "826/826 [==============================] - 43s 53ms/step - loss: 0.1991 - accuracy: 0.9227 - val_loss: 0.4005 - val_accuracy: 0.8730\n",
            "Epoch 15/20\n",
            "826/826 [==============================] - 43s 52ms/step - loss: 0.1776 - accuracy: 0.9353 - val_loss: 0.3533 - val_accuracy: 0.8924\n",
            "Epoch 16/20\n",
            "826/826 [==============================] - 43s 52ms/step - loss: 0.1780 - accuracy: 0.9305 - val_loss: 0.4379 - val_accuracy: 0.8547\n",
            "Epoch 17/20\n",
            "826/826 [==============================] - 43s 52ms/step - loss: 0.1498 - accuracy: 0.9431 - val_loss: 0.4456 - val_accuracy: 0.8773\n",
            "Epoch 18/20\n",
            "826/826 [==============================] - 43s 53ms/step - loss: 0.1555 - accuracy: 0.9416 - val_loss: 0.4087 - val_accuracy: 0.8870\n",
            "Epoch 19/20\n",
            "826/826 [==============================] - 43s 52ms/step - loss: 0.1413 - accuracy: 0.9486 - val_loss: 0.5809 - val_accuracy: 0.8601\n",
            "Epoch 20/20\n",
            "826/826 [==============================] - 45s 55ms/step - loss: 0.1534 - accuracy: 0.9491 - val_loss: 0.3943 - val_accuracy: 0.8891\n"
          ]
        },
        {
          "output_type": "execute_result",
          "data": {
            "text/plain": [
              "<keras.callbacks.History at 0x7f094401cad0>"
            ]
          },
          "metadata": {},
          "execution_count": 18
        }
      ]
    },
    {
      "cell_type": "code",
      "source": [
        "classifier.save('ainutrition.h5')"
      ],
      "metadata": {
        "id": "E7OTSHxABYrX"
      },
      "execution_count": null,
      "outputs": []
    },
    {
      "cell_type": "code",
      "source": [
        "#Predict the results\n",
        "from tensorflow.keras.models import load_model\n",
        "from keras.preprocessing import image\n",
        "from keras_preprocessing.image import load_img\n",
        "model = load_model(\"ainutrition.h5\")"
      ],
      "metadata": {
        "id": "pQFBrd3TBif5"
      },
      "execution_count": null,
      "outputs": []
    },
    {
      "cell_type": "code",
      "source": [
        "from tensorflow.keras.utils import img_to_array\n",
        "#loading of the image\n",
        "img = load_img(r'/content/drive/MyDrive/DataSet-IBM/TEST_SET/ORANGE/n07749192_10691.jpg',grayscale=False,target_size= (64,64))\n",
        "#image to array\n",
        "x = img_to_array(img)\n",
        "#changing the shape\n",
        "x = np.expand_dims(x,axis = 0)\n",
        "predict_x=model.predict(x) \n",
        "classes_x=np.argmax(predict_x,axis=-1)\n",
        "classes_x"
      ],
      "metadata": {
        "colab": {
          "base_uri": "https://localhost:8080/"
        },
        "id": "nw9xq8tZBnBL",
        "outputId": "b08b4fe3-458a-4728-a1ec-56510bb8790c"
      },
      "execution_count": null,
      "outputs": [
        {
          "output_type": "stream",
          "name": "stdout",
          "text": [
            "1/1 [==============================] - 0s 104ms/step\n"
          ]
        },
        {
          "output_type": "execute_result",
          "data": {
            "text/plain": [
              "array([2])"
            ]
          },
          "metadata": {},
          "execution_count": 30
        }
      ]
    },
    {
      "cell_type": "code",
      "source": [
        "index=['APPLES', 'BANANA', 'ORANGE','PINEAPPLE','WATERMELON']\n",
        "result=str(index[classes_x[0]])\n",
        "result"
      ],
      "metadata": {
        "colab": {
          "base_uri": "https://localhost:8080/",
          "height": 36
        },
        "id": "iyVv2RUCDvOv",
        "outputId": "9ff70196-6c39-4fb2-d228-b50279864ad0"
      },
      "execution_count": null,
      "outputs": [
        {
          "output_type": "execute_result",
          "data": {
            "text/plain": [
              "'ORANGE'"
            ],
            "application/vnd.google.colaboratory.intrinsic+json": {
              "type": "string"
            }
          },
          "metadata": {},
          "execution_count": 35
        }
      ]
    }
  ]
}