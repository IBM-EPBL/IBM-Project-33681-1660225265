{
  "nbformat": 4,
  "nbformat_minor": 0,
  "metadata": {
    "colab": {
      "provenance": []
    },
    "kernelspec": {
      "name": "python3",
      "display_name": "Python 3"
    },
    "language_info": {
      "name": "python"
    }
  },
  "cells": [
    {
      "cell_type": "code",
      "execution_count": null,
      "metadata": {
        "id": "klyFbsB4hfsm"
      },
      "outputs": [],
      "source": [
        "import numpy as np\n",
        "import tensorflow as tf\n",
        "from tensorflow.keras.models import Sequential \n",
        "from tensorflow.keras import layers\n",
        "from tensorflow.keras.layers import Dense,Flatten\n",
        "from tensorflow.keras.layers import Conv2D,MaxPooling2D,Dropout\n",
        "from keras.preprocessing.image import ImageDataGenerator"
      ]
    },
    {
      "cell_type": "code",
      "source": [
        "train_datagen = ImageDataGenerator(rescale = 1./255,shear_range=0.2,zoom_range=0.2,horizontal_flip=True)\n",
        "test_datagen = ImageDataGenerator(rescale = 1./255)"
      ],
      "metadata": {
        "id": "QdzijUfchtmh"
      },
      "execution_count": null,
      "outputs": []
    },
    {
      "cell_type": "code",
      "source": [
        "#Applying Image DataGenerator Functionality To Trainset And Testset\n",
        "x_train = train_datagen.flow_from_directory(\n",
        "    r'/content/drive/MyDrive/DataSet-IBM/TRAIN_SET',\n",
        "    target_size=(64, 64),batch_size=5,color_mode='rgb',class_mode='sparse')\n",
        "#Applying Image DataGenerator Functionality To Testset\n",
        "x_test = test_datagen.flow_from_directory(\n",
        "    r'/content/drive/MyDrive/DataSet-IBM/TEST_SET',\n",
        "    target_size=(64, 64),batch_size=5,color_mode='rgb',class_mode='sparse')"
      ],
      "metadata": {
        "colab": {
          "base_uri": "https://localhost:8080/"
        },
        "id": "7MPUjjFYl-Mo",
        "outputId": "775c261d-885a-485a-e3d7-70c70e036635"
      },
      "execution_count": null,
      "outputs": [
        {
          "output_type": "stream",
          "name": "stdout",
          "text": [
            "Found 4128 images belonging to 5 classes.\n",
            "Found 929 images belonging to 5 classes.\n"
          ]
        }
      ]
    },
    {
      "cell_type": "code",
      "source": [
        "#checking the number of classes\n",
        "print(x_train.class_indices)"
      ],
      "metadata": {
        "colab": {
          "base_uri": "https://localhost:8080/"
        },
        "id": "p8jMbatezQVl",
        "outputId": "8bd7b529-63db-414e-dfd6-ec1f5b311968"
      },
      "execution_count": null,
      "outputs": [
        {
          "output_type": "stream",
          "name": "stdout",
          "text": [
            "{'APPLES': 0, 'BANANA': 1, 'ORANGE': 2, 'PINEAPPLE': 3, 'WATERMELON': 4}\n"
          ]
        }
      ]
    },
    {
      "cell_type": "code",
      "source": [
        "#checking the number of classes\n",
        "print(x_test.class_indices)"
      ],
      "metadata": {
        "colab": {
          "base_uri": "https://localhost:8080/"
        },
        "id": "ni5a2f86zYVN",
        "outputId": "53252b05-1611-4243-ee5b-c50a9faf5c21"
      },
      "execution_count": null,
      "outputs": [
        {
          "output_type": "stream",
          "name": "stdout",
          "text": [
            "{'APPLES': 0, 'BANANA': 1, 'ORANGE': 2, 'PINEAPPLE': 3, 'WATERMELON': 4}\n"
          ]
        }
      ]
    },
    {
      "cell_type": "code",
      "source": [
        "from collections import Counter as c\n",
        "c(x_train .labels)"
      ],
      "metadata": {
        "colab": {
          "base_uri": "https://localhost:8080/"
        },
        "id": "ypLY8ewzzcYn",
        "outputId": "e02410e2-ddb4-4a53-f7d5-dc8d64ff69bc"
      },
      "execution_count": null,
      "outputs": [
        {
          "output_type": "execute_result",
          "data": {
            "text/plain": [
              "Counter({0: 995, 1: 1364, 2: 1019, 3: 275, 4: 475})"
            ]
          },
          "metadata": {},
          "execution_count": 6
        }
      ]
    },
    {
      "cell_type": "code",
      "source": [
        "model = Sequential()"
      ],
      "metadata": {
        "id": "U9a5-_UI2Wte"
      },
      "execution_count": null,
      "outputs": []
    },
    {
      "cell_type": "code",
      "source": [
        "classifier = Sequential()\n",
        "\n",
        "# First convolution layer and pooling\n",
        "classifier.add(Conv2D(32, (3, 3), input_shape=(64, 64, 3), activation='relu'))\n",
        "classifier.add(MaxPooling2D(pool_size=(2, 2)))\n",
        "\n",
        "# Second convolution layer and pooling\n",
        "classifier.add(Conv2D(32, (3, 3), activation='relu'))\n",
        "\n",
        "# input_shape is going to be the pooled feature maps from the previous convolution layer\n",
        "classifier.add(MaxPooling2D(pool_size=(2, 2)))\n",
        "\n",
        "# Flattening the layers\n",
        "classifier.add(Flatten())"
      ],
      "metadata": {
        "id": "Paz_Hw3Q2a8i"
      },
      "execution_count": null,
      "outputs": []
    },
    {
      "cell_type": "code",
      "source": [
        "classifier.add(Dense(units=128, activation='relu'))\n",
        "classifier.add(Dense(units=5, activation='softmax'))"
      ],
      "metadata": {
        "id": "bH3E3JPy2eaJ"
      },
      "execution_count": null,
      "outputs": []
    },
    {
      "cell_type": "code",
      "source": [
        "classifier.summary()"
      ],
      "metadata": {
        "colab": {
          "base_uri": "https://localhost:8080/"
        },
        "id": "3363VDDK2hVc",
        "outputId": "3c119d08-bb91-45c7-f627-d9419174eb2a"
      },
      "execution_count": null,
      "outputs": [
        {
          "output_type": "stream",
          "name": "stdout",
          "text": [
            "Model: \"sequential_1\"\n",
            "_________________________________________________________________\n",
            " Layer (type)                Output Shape              Param #   \n",
            "=================================================================\n",
            " conv2d (Conv2D)             (None, 62, 62, 32)        896       \n",
            "                                                                 \n",
            " max_pooling2d (MaxPooling2D  (None, 31, 31, 32)       0         \n",
            " )                                                               \n",
            "                                                                 \n",
            " conv2d_1 (Conv2D)           (None, 29, 29, 32)        9248      \n",
            "                                                                 \n",
            " max_pooling2d_1 (MaxPooling  (None, 14, 14, 32)       0         \n",
            " 2D)                                                             \n",
            "                                                                 \n",
            " flatten (Flatten)           (None, 6272)              0         \n",
            "                                                                 \n",
            " dense (Dense)               (None, 128)               802944    \n",
            "                                                                 \n",
            " dense_1 (Dense)             (None, 5)                 645       \n",
            "                                                                 \n",
            "=================================================================\n",
            "Total params: 813,733\n",
            "Trainable params: 813,733\n",
            "Non-trainable params: 0\n",
            "_________________________________________________________________\n"
          ]
        }
      ]
    },
    {
      "cell_type": "code",
      "source": [
        "# Compiling the CNN\n",
        "# categorical_crossentropy for more than 2\n",
        "classifier.compile(optimizer='adam', loss='sparse_categorical_crossentropy', metrics=['accuracy'])"
      ],
      "metadata": {
        "id": "QznvP79Q2k8D"
      },
      "execution_count": null,
      "outputs": []
    },
    {
      "cell_type": "code",
      "source": [
        "classifier.fit_generator(generator=x_train,steps_per_epoch = len(x_train),epochs=20, validation_data=x_test,validation_steps = len(x_test))"
      ],
      "metadata": {
        "colab": {
          "base_uri": "https://localhost:8080/"
        },
        "id": "A_Mr2Jsa2mbj",
        "outputId": "e9c1b62b-a181-46ca-ba4f-1f770bbdb85e"
      },
      "execution_count": null,
      "outputs": [
        {
          "output_type": "stream",
          "name": "stderr",
          "text": [
            "/usr/local/lib/python3.7/dist-packages/ipykernel_launcher.py:1: UserWarning: `Model.fit_generator` is deprecated and will be removed in a future version. Please use `Model.fit`, which supports generators.\n",
            "  \"\"\"Entry point for launching an IPython kernel.\n"
          ]
        },
        {
          "output_type": "stream",
          "name": "stdout",
          "text": [
            "Epoch 1/20\n",
            "826/826 [==============================] - 1315s 2s/step - loss: 0.6087 - accuracy: 0.7599 - val_loss: 0.5782 - val_accuracy: 0.7847\n",
            "Epoch 2/20\n",
            "826/826 [==============================] - 47s 56ms/step - loss: 0.4062 - accuracy: 0.8454 - val_loss: 0.4071 - val_accuracy: 0.8558\n",
            "Epoch 3/20\n",
            "826/826 [==============================] - 46s 56ms/step - loss: 0.3754 - accuracy: 0.8607 - val_loss: 0.4110 - val_accuracy: 0.8471\n",
            "Epoch 4/20\n",
            "826/826 [==============================] - 45s 55ms/step - loss: 0.3381 - accuracy: 0.8728 - val_loss: 0.4668 - val_accuracy: 0.8170\n",
            "Epoch 5/20\n",
            "826/826 [==============================] - 49s 59ms/step - loss: 0.3282 - accuracy: 0.8769 - val_loss: 0.4054 - val_accuracy: 0.8493\n",
            "Epoch 6/20\n",
            "826/826 [==============================] - 47s 56ms/step - loss: 0.3081 - accuracy: 0.8854 - val_loss: 0.4247 - val_accuracy: 0.8418\n",
            "Epoch 7/20\n",
            "826/826 [==============================] - 45s 54ms/step - loss: 0.2897 - accuracy: 0.8900 - val_loss: 0.4057 - val_accuracy: 0.8590\n",
            "Epoch 8/20\n",
            "826/826 [==============================] - 46s 56ms/step - loss: 0.2746 - accuracy: 0.8932 - val_loss: 0.4180 - val_accuracy: 0.8741\n",
            "Epoch 9/20\n",
            "826/826 [==============================] - 45s 54ms/step - loss: 0.2689 - accuracy: 0.8995 - val_loss: 0.4639 - val_accuracy: 0.8418\n",
            "Epoch 10/20\n",
            "826/826 [==============================] - 46s 55ms/step - loss: 0.2456 - accuracy: 0.9092 - val_loss: 0.3555 - val_accuracy: 0.8773\n",
            "Epoch 11/20\n",
            "826/826 [==============================] - 46s 56ms/step - loss: 0.2278 - accuracy: 0.9104 - val_loss: 0.3919 - val_accuracy: 0.8622\n",
            "Epoch 12/20\n",
            "826/826 [==============================] - 46s 56ms/step - loss: 0.2104 - accuracy: 0.9213 - val_loss: 0.3689 - val_accuracy: 0.8751\n",
            "Epoch 13/20\n",
            "826/826 [==============================] - 46s 56ms/step - loss: 0.2100 - accuracy: 0.9191 - val_loss: 0.3579 - val_accuracy: 0.8827\n",
            "Epoch 14/20\n",
            "826/826 [==============================] - 47s 57ms/step - loss: 0.1906 - accuracy: 0.9319 - val_loss: 0.4280 - val_accuracy: 0.8611\n",
            "Epoch 15/20\n",
            "826/826 [==============================] - 46s 55ms/step - loss: 0.1827 - accuracy: 0.9329 - val_loss: 0.3347 - val_accuracy: 0.9031\n",
            "Epoch 16/20\n",
            "826/826 [==============================] - 43s 52ms/step - loss: 0.1636 - accuracy: 0.9394 - val_loss: 0.4189 - val_accuracy: 0.8579\n",
            "Epoch 17/20\n",
            "826/826 [==============================] - 47s 57ms/step - loss: 0.1609 - accuracy: 0.9397 - val_loss: 0.3509 - val_accuracy: 0.8967\n",
            "Epoch 18/20\n",
            "826/826 [==============================] - 46s 56ms/step - loss: 0.1363 - accuracy: 0.9479 - val_loss: 0.3901 - val_accuracy: 0.8924\n",
            "Epoch 19/20\n",
            "826/826 [==============================] - 46s 55ms/step - loss: 0.1339 - accuracy: 0.9537 - val_loss: 0.4557 - val_accuracy: 0.8730\n",
            "Epoch 20/20\n",
            "826/826 [==============================] - 45s 55ms/step - loss: 0.1179 - accuracy: 0.9566 - val_loss: 0.3902 - val_accuracy: 0.9042\n"
          ]
        },
        {
          "output_type": "execute_result",
          "data": {
            "text/plain": [
              "<keras.callbacks.History at 0x7fc096200250>"
            ]
          },
          "metadata": {},
          "execution_count": 12
        }
      ]
    },
    {
      "cell_type": "code",
      "source": [
        "classifier.save('ainutrition.h5')"
      ],
      "metadata": {
        "id": "E7OTSHxABYrX"
      },
      "execution_count": null,
      "outputs": []
    },
    {
      "cell_type": "code",
      "source": [
        "#Predict the results\n",
        "from tensorflow.keras.models import load_model\n",
        "from keras.preprocessing import image\n",
        "from keras_preprocessing.image import load_img\n",
        "model = load_model(\"ainutrition.h5\")"
      ],
      "metadata": {
        "id": "pQFBrd3TBif5"
      },
      "execution_count": null,
      "outputs": []
    },
    {
      "cell_type": "code",
      "source": [
        "from tensorflow.keras.utils import img_to_array\n",
        "#loading of the image\n",
        "img = load_img(r'/content/drive/MyDrive/DataSet-IBM/TEST_SET/ORANGE/n07749192_1251.jpg',grayscale=False,target_size= (64,64))\n",
        "#image to array\n",
        "x = img_to_array(img)\n",
        "#changing the shape\n",
        "x = np.expand_dims(x,axis = 0)\n",
        "predict_x=model.predict(x) \n",
        "classes_x=np.argmax(predict_x,axis=-1)\n",
        "classes_x"
      ],
      "metadata": {
        "colab": {
          "base_uri": "https://localhost:8080/"
        },
        "id": "nw9xq8tZBnBL",
        "outputId": "862ed2a8-b2b7-4641-9ca0-dfdd1235ca99"
      },
      "execution_count": null,
      "outputs": [
        {
          "output_type": "stream",
          "name": "stdout",
          "text": [
            "1/1 [==============================] - 0s 107ms/step\n"
          ]
        },
        {
          "output_type": "execute_result",
          "data": {
            "text/plain": [
              "array([2])"
            ]
          },
          "metadata": {},
          "execution_count": 15
        }
      ]
    },
    {
      "cell_type": "code",
      "source": [
        "index=['APPLES', 'BANANA', 'ORANGE','PINEAPPLE','WATERMELON']\n",
        "result=str(index[classes_x[0]])\n",
        "result"
      ],
      "metadata": {
        "colab": {
          "base_uri": "https://localhost:8080/",
          "height": 36
        },
        "id": "iyVv2RUCDvOv",
        "outputId": "72889de3-74af-4861-d3a0-670f0b73342c"
      },
      "execution_count": null,
      "outputs": [
        {
          "output_type": "execute_result",
          "data": {
            "text/plain": [
              "'ORANGE'"
            ],
            "application/vnd.google.colaboratory.intrinsic+json": {
              "type": "string"
            }
          },
          "metadata": {},
          "execution_count": 16
        }
      ]
    },
    {
      "cell_type": "code",
      "source": [
        "print(result)\n",
        "if result == 'APPLES':\n",
        "  print(\"One serving, or one medium apple, provides about 95 calories, 0 gram fat, 1 gram protein, 25 grams carbohydrate, 19 grams sugar (naturally occurring), and 3 grams fiber.\")\n",
        "elif result == 'BANANA':\n",
        "  print(\"One serving, or one medium ripe banana, provides about 110 calories, 0 gram fat, 1 gram protein, 28 grams carbohydrate, 15 grams sugar (naturally occurring), 3 grams fiber, and 450 mg potassium.\")\n",
        "elif result == 'ORANGE':\n",
        "  print(\"60 calories, No fat or sodium, 3 grams of fiber, 12 grams of sugar, 1 gram of protein, 14 micrograms of vitamin A, 70 milligrams of vitamin C, 6% of your daily recommended amount of calcium.\")\n",
        "elif result == 'PINEAPPLE':\n",
        "  print(\"Calories: 83, Fat: 1.7 grams, Protein: 1 gram, Carbs: 21.6 grams, Fiber: 2.3 grams, Vitamin C: 88% of the Daily Value (DV), Manganese: 109% of the DV, Vitamin B6: 11% of the DV.\")\n",
        "elif result == 'WATERMELON':\n",
        "  print(\"Calories: 46, Carbs: 11.5 grams, Fiber: 0.6 grams, Sugar: 9.4 grams, Protein: 0.9 grams, Fat: 0.2 grams, Vitamin A: 5% of the Daily Value (DV), Vitamin C: 14% of the DV.\")"
      ],
      "metadata": {
        "colab": {
          "base_uri": "https://localhost:8080/"
        },
        "id": "KkFMW9sjSbuI",
        "outputId": "00123760-dde9-48fa-ddb0-da2a2d3dfd99"
      },
      "execution_count": null,
      "outputs": [
        {
          "output_type": "stream",
          "name": "stdout",
          "text": [
            "ORANGE\n",
            "60 calories, No fat or sodium, 3 grams of fiber, 12 grams of sugar, 1 gram of protein, 14 micrograms of vitamin A, 70 milligrams of vitamin C, 6% of your daily recommended amount of calcium.\n"
          ]
        }
      ]
    }
  ]
}